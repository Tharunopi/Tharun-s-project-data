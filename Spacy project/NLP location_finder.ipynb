{
 "cells": [
  {
   "cell_type": "code",
   "execution_count": 12,
   "id": "1186132c-99f9-4e2d-a596-af9362091fca",
   "metadata": {},
   "outputs": [],
   "source": [
    "import spacy\n",
    "from spacy import displacy\n",
    "from spacy.matcher import Matcher\n",
    "import pandas as pd\n",
    "import fuzzywuzzy\n",
    "import openai\n",
    "from fuzzywuzzy import fuzz, process"
   ]
  },
  {
   "cell_type": "code",
   "execution_count": 2,
   "id": "38a18568-51a8-4192-bd57-ad8b81275e2a",
   "metadata": {},
   "outputs": [],
   "source": [
    "df = pd.read_csv(\"C:\\Stack overflow\\output.csv\")"
   ]
  },
  {
   "cell_type": "code",
   "execution_count": 3,
   "id": "22538eb9-3848-4d67-8934-2a1cb3ce1731",
   "metadata": {
    "scrolled": true
   },
   "outputs": [],
   "source": [
    "alternate = []\n",
    "for i in df[\"Alternate Names\"]:\n",
    "    alternate.append(i.lower())\n",
    "filtered = alternate\n",
    "for i in filtered:\n",
    "    if \"?\" in i:\n",
    "        filtered.remove(i)"
   ]
  },
  {
   "cell_type": "code",
   "execution_count": 7,
   "id": "bfe2bada-d989-4802-a48f-788d423a4402",
   "metadata": {},
   "outputs": [],
   "source": [
    "nlp = spacy.load(\"en_core_web_trf\")\n",
    "ruler = nlp.add_pipe(\"entity_ruler\", before=\"ner\")"
   ]
  },
  {
   "cell_type": "code",
   "execution_count": 8,
   "id": "466cba07-05c3-4bd1-85e0-25f4fbfb40d4",
   "metadata": {},
   "outputs": [],
   "source": [
    "pattern = {\"pattern\": [{\"TEXT\": {\"FUZZY\": {\"IN\": [\"palani\", \"venao\"] }}}], \"label\": \"Location\"}\n",
    "pattern1 = [{\"TEXT\": {\"IN\": filtered}}]\n",
    "ruler.add_patterns([pattern])"
   ]
  },
  {
   "cell_type": "code",
   "execution_count": 9,
   "id": "f887222a-7cc9-487b-8161-9fe71201ee51",
   "metadata": {},
   "outputs": [],
   "source": [
    "doc = nlp(\"I am going to palan next week\")"
   ]
  },
  {
   "cell_type": "code",
   "execution_count": 10,
   "id": "dff25ea5-8f35-4418-a0d4-e1f44ec1c1ad",
   "metadata": {},
   "outputs": [],
   "source": [
    "def checking_gpe(doc):\n",
    "    place = []\n",
    "    dict = []\n",
    "    real = []\n",
    "    num = 0\n",
    "    #Checking the tokens in database \n",
    "    for token in doc:\n",
    "        for pattern in pattern1:\n",
    "            if token.text.lower() in pattern[\"TEXT\"][\"IN\"]:\n",
    "                place.append(token)\n",
    "                print(f\"Exact location found!!!\\nLocation : {token.text} \\nCanonical name : {token.text.upper()}\\nConfidence score : 100\")\n",
    "        dict.append(process.extractOne(token.text, alternate, scorer= fuzz.ratio))\n",
    "        real.append(token.text)\n",
    "    #If token not found in database then check if there is any spelling errors\n",
    "    if len(place) == 0:\n",
    "        for x,y in dict:\n",
    "            num += 1\n",
    "            if y > 80:\n",
    "                print(f\"Spelling error dectected!!!\\nError word : {real[num - 1]} \\nCanonical name : {x.upper()}\\nConfidence score : {y}\")\n",
    "                break\n",
    "    #If token not found in both database and spelling error in token then proceeds for contexual analysis\n",
    "    "
   ]
  },
  {
   "cell_type": "code",
   "execution_count": 11,
   "id": "26713541-0d54-4470-99f5-a4bd74aa25f3",
   "metadata": {},
   "outputs": [
    {
     "name": "stdout",
     "output_type": "stream",
     "text": [
      "Spelling error dectected!!!\n",
      "Error word : palan \n",
      "Canonical name : PALANI\n",
      "Confidence score : 91\n"
     ]
    }
   ],
   "source": [
    "checking_gpe(doc)"
   ]
  },
  {
   "cell_type": "code",
   "execution_count": null,
   "id": "4bbfd1e1-36f9-470e-b431-95113bbb0834",
   "metadata": {},
   "outputs": [],
   "source": []
  }
 ],
 "metadata": {
  "kernelspec": {
   "display_name": "Python 3 (ipykernel)",
   "language": "python",
   "name": "python3"
  },
  "language_info": {
   "codemirror_mode": {
    "name": "ipython",
    "version": 3
   },
   "file_extension": ".py",
   "mimetype": "text/x-python",
   "name": "python",
   "nbconvert_exporter": "python",
   "pygments_lexer": "ipython3",
   "version": "3.11.4"
  }
 },
 "nbformat": 4,
 "nbformat_minor": 5
}
